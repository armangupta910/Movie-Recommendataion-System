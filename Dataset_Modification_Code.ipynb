{
  "nbformat": 4,
  "nbformat_minor": 0,
  "metadata": {
    "colab": {
      "provenance": [],
      "authorship_tag": "ABX9TyN9wz9Vb8v4M0Y9Gsbfjl4N",
      "include_colab_link": true
    },
    "kernelspec": {
      "name": "python3",
      "display_name": "Python 3"
    },
    "language_info": {
      "name": "python"
    }
  },
  "cells": [
    {
      "cell_type": "markdown",
      "metadata": {
        "id": "view-in-github",
        "colab_type": "text"
      },
      "source": [
        "<a href=\"https://colab.research.google.com/github/armangupta910/Movie-Recommendor-System/blob/main/Dataset_Modification_Code.ipynb\" target=\"_parent\"><img src=\"https://colab.research.google.com/assets/colab-badge.svg\" alt=\"Open In Colab\"/></a>"
      ]
    },
    {
      "cell_type": "code",
      "execution_count": 1,
      "metadata": {
        "id": "d3Gx81PFIziB"
      },
      "outputs": [],
      "source": [
        "import pandas as pd\n",
        "from datetime import datetime\n",
        "\n",
        "def extract_info(timestamp):\n",
        "    # Converting timestamp to datetime object\n",
        "    date_time = datetime.fromtimestamp(timestamp)\n",
        "\n",
        "    # Extracting date, month, year, and day\n",
        "    date = date_time.day\n",
        "    month = date_time.month\n",
        "    year = date_time.year\n",
        "    day = date_time.strftime(\"%A\")  # Extracting day as Monday, Tuesday, etc.\n",
        "\n",
        "    if month in [3, 4, 5]:\n",
        "        season = 'Spring'\n",
        "    elif month in [6, 7, 8]:\n",
        "        season = 'Summer'\n",
        "    elif month in [9, 10, 11]:\n",
        "        season = 'Autumn'\n",
        "    else:\n",
        "        season = 'Winter'\n",
        "\n",
        "    return date, month, year, day, season\n",
        "\n",
        "df = pd.read_csv('https://raw.githubusercontent.com/armangupta910/Movie-Recommendor-System/main/dataSet/complete_data%20-%20complete_data%20(1).csv.csv')\n",
        "\n",
        "# Extracting info from 'timestamp_x' column and add new columns\n",
        "df['timestamp_x'] = pd.to_numeric(df['timestamp_x'])  # Convert to numeric in case it's not\n",
        "df['date'], df['month'], df['year'], df['day'], df['season'] = zip(*df['timestamp_x'].apply(extract_info))\n",
        "\n",
        "# Merging date, month, year columns using \"?\" and overwrite the 'date' column\n",
        "df['date'] = df['date'].astype(str) + \"/\" + df['month'].astype(str) + \"/\" + df['year'].astype(str)\n",
        "df.drop(columns=['month', 'year'], inplace=True)\n",
        "\n",
        "df.to_csv('modified_movielens_dataset.csv', index=False)"
      ]
    }
  ]
}
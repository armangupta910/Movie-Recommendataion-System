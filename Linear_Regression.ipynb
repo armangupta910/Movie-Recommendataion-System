{
  "nbformat": 4,
  "nbformat_minor": 0,
  "metadata": {
    "colab": {
      "provenance": [],
      "include_colab_link": true
    },
    "kernelspec": {
      "name": "python3",
      "display_name": "Python 3"
    },
    "language_info": {
      "name": "python"
    }
  },
  "cells": [
    {
      "cell_type": "markdown",
      "metadata": {
        "id": "view-in-github",
        "colab_type": "text"
      },
      "source": [
        "<a href=\"https://colab.research.google.com/github/armangupta910/Movie-Recommendor-System/blob/main/Linear_Regression.ipynb\" target=\"_parent\"><img src=\"https://colab.research.google.com/assets/colab-badge.svg\" alt=\"Open In Colab\"/></a>"
      ]
    },
    {
      "cell_type": "markdown",
      "source": [
        "## **IMPORTS**"
      ],
      "metadata": {
        "id": "fTPmGdbRQvil"
      }
    },
    {
      "cell_type": "code",
      "execution_count": null,
      "metadata": {
        "id": "ADys7HyPQBZk"
      },
      "outputs": [],
      "source": [
        "import pandas as pd\n",
        "from sklearn.model_selection import train_test_split\n",
        "from sklearn.neighbors import NearestNeighbors\n",
        "import numpy as np\n",
        "from sklearn.svm import SVR\n",
        "from sklearn.preprocessing import StandardScaler\n",
        "from sklearn.pipeline import make_pipeline"
      ]
    },
    {
      "cell_type": "markdown",
      "source": [
        "1. Getting Data set\n",
        "2. Doing No Tag Imputation\n",
        "3. Dropping timestamp_y column\n",
        "4. Renaming timestamp_x column to timestamp colum\n",
        "5. Checking number of mising values"
      ],
      "metadata": {
        "id": "y7P457M3Q1M6"
      }
    },
    {
      "cell_type": "code",
      "source": [
        "\n",
        "# Replace 'url_to_csv' with the actual URL of your dataset\n",
        "url_to_csv = 'https://raw.githubusercontent.com/armangupta910/Movie-Recommendor-System/main/dataSet/complete_data%20-%20complete_data%20(1).csv.csv'\n",
        "data = pd.read_csv(url_to_csv)\n",
        "\n",
        "# Imputation: Replace NaN in 'tag' column with 'No Tag'\n",
        "data['tag'].fillna('No Tag', inplace=True)\n",
        "\n",
        "# Drop 'timestamp_y' column\n",
        "data.drop('timestamp_y', axis=1, inplace=True)\n",
        "\n",
        "#Rename 'timestamp_x' column to timestamp\n",
        "data.rename(columns={'timestamp_x': 'timestamp'}, inplace=True)\n",
        "\n",
        "# Display the number of missing values for each column\n",
        "missing_values = data.isnull().sum()\n",
        "print(missing_values)\n",
        "\n",
        "print(data.head())\n"
      ],
      "metadata": {
        "colab": {
          "base_uri": "https://localhost:8080/"
        },
        "id": "fdMSYsyoRH8a",
        "outputId": "19b42b51-3a98-4cff-9ff6-069938b6fe91"
      },
      "execution_count": null,
      "outputs": [
        {
          "output_type": "stream",
          "name": "stdout",
          "text": [
            "userId       0\n",
            "movieId      0\n",
            "rating       0\n",
            "timestamp    0\n",
            "title        0\n",
            "genres       0\n",
            "tag          0\n",
            "dtype: int64\n",
            "   userId  movieId  rating   timestamp             title  \\\n",
            "0       1        1     4.0   964982703  Toy Story (1995)   \n",
            "1       5        1     4.0   847434962  Toy Story (1995)   \n",
            "2       7        1     4.5  1106635946  Toy Story (1995)   \n",
            "3      15        1     2.5  1510577970  Toy Story (1995)   \n",
            "4      17        1     4.5  1305696483  Toy Story (1995)   \n",
            "\n",
            "                                        genres     tag  \n",
            "0  Adventure|Animation|Children|Comedy|Fantasy  No Tag  \n",
            "1  Adventure|Animation|Children|Comedy|Fantasy  No Tag  \n",
            "2  Adventure|Animation|Children|Comedy|Fantasy  No Tag  \n",
            "3  Adventure|Animation|Children|Comedy|Fantasy  No Tag  \n",
            "4  Adventure|Animation|Children|Comedy|Fantasy  No Tag  \n"
          ]
        }
      ]
    },
    {
      "cell_type": "markdown",
      "source": [
        "1. Changing timestamp colum to contain the actual Date and Time\n",
        "\n",
        "2. Generating\n",
        "\n",
        "*   Date of Month\n",
        "*   Day of Week\n",
        "*   Month\n",
        "*   Year\n",
        "*   Season\n",
        "\n",
        "using the Timestamp Column\n",
        "3. Encdoing the Seasons as\n",
        "\n",
        "\n",
        "*   Winter -> 1\n",
        "\n",
        "*   Spring -> 2\n",
        "*   Summer -> 3\n",
        "\n",
        "\n",
        "*   Fall -> 4\n",
        "\n"
      ],
      "metadata": {
        "id": "svHVvqGMSTp4"
      }
    },
    {
      "cell_type": "code",
      "source": [
        "\n",
        "# Convert 'timestamp' to datetime\n",
        "data['timestamp'] = pd.to_datetime(data['timestamp'], unit='s')\n",
        "\n",
        "# Extract date of month, day of month, month, and year\n",
        "data['date_of_month'] = data['timestamp'].dt.day\n",
        "data['day_of_week'] = data['timestamp'].dt.dayofweek  # Monday=0, Sunday=6\n",
        "data['month'] = data['timestamp'].dt.month\n",
        "data['year'] = data['timestamp'].dt.year\n",
        "\n",
        "# Define a function to determine the season based on the month\n",
        "def get_season(month):\n",
        "    if month in [12, 1, 2]:\n",
        "        return 'Winter'\n",
        "    elif month in [3, 4, 5]:\n",
        "        return 'Spring'\n",
        "    elif month in [6, 7, 8]:\n",
        "        return 'Summer'\n",
        "    else:\n",
        "        return 'Fall'\n",
        "\n",
        "# Apply the function to the 'month' column to create a new 'season' column\n",
        "data['season'] = data['month'].apply(get_season)\n",
        "\n",
        "\n",
        "\n",
        "# Season to number mapping\n",
        "season_to_number = {\n",
        "    'Winter': 1,\n",
        "    'Spring': 2,\n",
        "    'Summer': 3,\n",
        "    'Fall': 4\n",
        "}\n",
        "\n",
        "# Replace the season strings with their corresponding numbers\n",
        "data['season'] = data['season'].map(season_to_number)\n",
        "\n",
        "# Display the modified DataFrame to verify the changes\n",
        "print(data.head())\n",
        "\n"
      ],
      "metadata": {
        "colab": {
          "base_uri": "https://localhost:8080/"
        },
        "id": "OqQmJ59ASmWd",
        "outputId": "351b4c38-322e-4654-f32c-097db2f1a41f"
      },
      "execution_count": null,
      "outputs": [
        {
          "output_type": "stream",
          "name": "stdout",
          "text": [
            "   userId  movieId  rating           timestamp             title  \\\n",
            "0       1        1     4.0 2000-07-30 18:45:03  Toy Story (1995)   \n",
            "1       5        1     4.0 1996-11-08 06:36:02  Toy Story (1995)   \n",
            "2       7        1     4.5 2005-01-25 06:52:26  Toy Story (1995)   \n",
            "3      15        1     2.5 2017-11-13 12:59:30  Toy Story (1995)   \n",
            "4      17        1     4.5 2011-05-18 05:28:03  Toy Story (1995)   \n",
            "\n",
            "                                        genres     tag  date_of_month  \\\n",
            "0  Adventure|Animation|Children|Comedy|Fantasy  No Tag             30   \n",
            "1  Adventure|Animation|Children|Comedy|Fantasy  No Tag              8   \n",
            "2  Adventure|Animation|Children|Comedy|Fantasy  No Tag             25   \n",
            "3  Adventure|Animation|Children|Comedy|Fantasy  No Tag             13   \n",
            "4  Adventure|Animation|Children|Comedy|Fantasy  No Tag             18   \n",
            "\n",
            "   day_of_week  month  year  season  \n",
            "0            6      7  2000       3  \n",
            "1            4     11  1996       4  \n",
            "2            1      1  2005       1  \n",
            "3            0     11  2017       4  \n",
            "4            2      5  2011       2  \n"
          ]
        }
      ]
    },
    {
      "cell_type": "markdown",
      "source": [
        "1. Cheking number of unique genres\n",
        "2. Encoding them as follows :-\n",
        "\n",
        "\n",
        "Action 1\n",
        "\n",
        "Adventure 2\n",
        "\n",
        "Animation 3\n",
        "\n",
        "Children 4\n",
        "\n",
        "Comedy 5\n",
        "\n",
        "Crime 6\n",
        "\n",
        "Documentary 7\n",
        "\n",
        "Drama 8\n",
        "\n",
        "Fantasy 9\n",
        "\n",
        "Film-Noir 10\n",
        "\n",
        "Horror 11\n",
        "\n",
        "IMAX 12\n",
        "\n",
        "Musical 13\n",
        "\n",
        "Mystery 14\n",
        "\n",
        "Romance 15\n",
        "\n",
        "Sci-Fi 16\n",
        "\n",
        "Thriller 17\n",
        "\n",
        "War 18\n",
        "\n",
        "Western 19\n",
        "\n",
        "\n"
      ],
      "metadata": {
        "id": "29aw8XZEToWz"
      }
    },
    {
      "cell_type": "code",
      "source": [
        "genres_split = data['genres'].str.split('|')\n",
        "\n",
        "# Flatten the list of lists to get a single list of genres\n",
        "all_genres = [genre for sublist in genres_split for genre in sublist]\n",
        "\n",
        "# Convert to a set to keep only unique genres, then back to a list if desired\n",
        "unique_genres = list(set(all_genres))\n",
        "\n",
        "# Sort the genres alphabetically, if needed\n",
        "unique_genres.sort()\n",
        "\n",
        "# Print the list of unique genres\n",
        "print(\"Number of unique Genres :- \",len(unique_genres))\n",
        "# for i in unique_genres:\n",
        "#   print(i)\n",
        "\n",
        "\n",
        "# Genre to number mapping as per your encoding\n",
        "genre_to_number = {\n",
        "    'Action': 1,\n",
        "    'Adventure': 2,\n",
        "    'Animation': 3,\n",
        "    'Children': 4,\n",
        "    'Comedy': 5,\n",
        "    'Crime': 6,\n",
        "    'Documentary': 7,\n",
        "    'Drama': 8,\n",
        "    'Fantasy': 9,\n",
        "    'Film-Noir': 10,\n",
        "    'Horror': 11,\n",
        "    'IMAX': 12,\n",
        "    'Musical': 13,\n",
        "    'Mystery': 14,\n",
        "    'Romance': 15,\n",
        "    'Sci-Fi': 16,\n",
        "    'Thriller': 17,\n",
        "    'War': 18,\n",
        "    'Western': 19,\n",
        "    'No Genres': 0  # Assuming 'No Genres' as 0\n",
        "}\n",
        "\n",
        "# Function to encode a genre string into its corresponding numbers separated by dashes\n",
        "def encode_genres(genre_string):\n",
        "    # Split the genre string by '|' and encode each genre using the genre_to_number mapping\n",
        "    encoded_genres = [str(genre_to_number.get(genre, 0)) for genre in genre_string.split('|')]\n",
        "    # Join the encoded genres with dashes\n",
        "    return '-'.join(encoded_genres)\n",
        "\n",
        "# Replace empty genre fields with 'No Genres'\n",
        "data['genres'] = data['genres'].replace('', 'No Genres')\n",
        "\n",
        "# Apply the encoding function to each genre string in the DataFrame\n",
        "data['genres'] = data['genres'].apply(encode_genres)\n",
        "\n",
        "# Display the modified DataFrame\n",
        "print(data.head())\n",
        "\n"
      ],
      "metadata": {
        "colab": {
          "base_uri": "https://localhost:8080/"
        },
        "id": "TreFnSGkTwIR",
        "outputId": "87ca0517-edd1-4c6b-cdce-31e01ed92750"
      },
      "execution_count": null,
      "outputs": [
        {
          "output_type": "stream",
          "name": "stdout",
          "text": [
            "Number of unique Genres :-  20\n",
            "   userId  movieId  rating           timestamp             title     genres  \\\n",
            "0       1        1     4.0 2000-07-30 18:45:03  Toy Story (1995)  2-3-4-5-9   \n",
            "1       5        1     4.0 1996-11-08 06:36:02  Toy Story (1995)  2-3-4-5-9   \n",
            "2       7        1     4.5 2005-01-25 06:52:26  Toy Story (1995)  2-3-4-5-9   \n",
            "3      15        1     2.5 2017-11-13 12:59:30  Toy Story (1995)  2-3-4-5-9   \n",
            "4      17        1     4.5 2011-05-18 05:28:03  Toy Story (1995)  2-3-4-5-9   \n",
            "\n",
            "      tag  date_of_month  day_of_week  month  year  season  \n",
            "0  No Tag             30            6      7  2000       3  \n",
            "1  No Tag              8            4     11  1996       4  \n",
            "2  No Tag             25            1      1  2005       1  \n",
            "3  No Tag             13            0     11  2017       4  \n",
            "4  No Tag             18            2      5  2011       2  \n"
          ]
        }
      ]
    },
    {
      "cell_type": "markdown",
      "source": [
        "1. Checking unique number of Tags\n",
        "2. Encoding them"
      ],
      "metadata": {
        "id": "YBM_QbdMWVjD"
      }
    },
    {
      "cell_type": "code",
      "source": [
        "# Assuming the delimiter for tags is a comma ','; adjust as necessary\n",
        "# Split the 'tag' column into lists of tags\n",
        "tag_lists = data['tag'].dropna().str.split(',')\n",
        "\n",
        "# Flatten the list of lists to a single list containing all tags\n",
        "all_tags = [tag.strip() for sublist in tag_lists for tag in sublist]\n",
        "\n",
        "# Convert to a set to remove duplicates and count unique tags\n",
        "unique_tags = set(all_tags)\n",
        "\n",
        "# Number of unique tags\n",
        "num_unique_tags = len(unique_tags)\n",
        "\n",
        "print(f'Number of unique tags: {num_unique_tags}')\n",
        "\n",
        "# Assuming the 'tag' preprocessing has been done\n",
        "# And assuming tags are separated by a comma ',' in the 'tag' column\n",
        "\n",
        "# Generate a list of unique tags from the 'tag' column\n",
        "tag_lists = data['tag'].dropna().str.split(',')\n",
        "all_tags = [tag.strip() for sublist in tag_lists for tag in sublist]\n",
        "unique_tags = set(all_tags)\n",
        "\n",
        "# Create a mapping from tag to a unique number (starting from 1 for example)\n",
        "tag_to_number = {tag: i+1 for i, tag in enumerate(unique_tags)}\n",
        "\n",
        "# Function to encode tags in a row with their corresponding numbers\n",
        "def encode_tags(tag_string):\n",
        "    if pd.isnull(tag_string):\n",
        "        return None  # Return None or an appropriate value for missing tags\n",
        "    # Split the tag string by ',', map each tag to its number, join back with commas\n",
        "    return ','.join(str(tag_to_number[tag.strip()]) for tag in tag_string.split(','))\n",
        "\n",
        "# Apply the encoding function to the 'tag' column in place\n",
        "data['tag'] = data['tag'].apply(encode_tags)\n",
        "\n",
        "# Print the encoding scheme\n",
        "print(\"Tag to number encoding scheme:\")\n",
        "# for tag, number in tag_to_number.items():\n",
        "#     print(f\"{tag}: {number}\")\n",
        "\n",
        "# Optionally, show the head of the DataFrame to verify the changes\n",
        "print(data.head())"
      ],
      "metadata": {
        "colab": {
          "base_uri": "https://localhost:8080/"
        },
        "id": "FZs9VBi2WecN",
        "outputId": "0d61532c-4e09-487b-b28c-02b7d1f03c79"
      },
      "execution_count": null,
      "outputs": [
        {
          "output_type": "stream",
          "name": "stdout",
          "text": [
            "Number of unique tags: 1544\n",
            "Tag to number encoding scheme:\n",
            "   userId  movieId  rating           timestamp             title     genres  \\\n",
            "0       1        1     4.0 2000-07-30 18:45:03  Toy Story (1995)  2-3-4-5-9   \n",
            "1       5        1     4.0 1996-11-08 06:36:02  Toy Story (1995)  2-3-4-5-9   \n",
            "2       7        1     4.5 2005-01-25 06:52:26  Toy Story (1995)  2-3-4-5-9   \n",
            "3      15        1     2.5 2017-11-13 12:59:30  Toy Story (1995)  2-3-4-5-9   \n",
            "4      17        1     4.5 2011-05-18 05:28:03  Toy Story (1995)  2-3-4-5-9   \n",
            "\n",
            "   tag  date_of_month  day_of_week  month  year  season  \n",
            "0  444             30            6      7  2000       3  \n",
            "1  444              8            4     11  1996       4  \n",
            "2  444             25            1      1  2005       1  \n",
            "3  444             13            0     11  2017       4  \n",
            "4  444             18            2      5  2011       2  \n"
          ]
        }
      ]
    },
    {
      "cell_type": "code",
      "source": [
        "# # Assuming 'tag' values are separated by commas\n",
        "# # Split the 'tag' column into lists of tags\n",
        "# tag_lists = data['tag'].dropna().str.split(',')\n",
        "\n",
        "# # Flatten the list of lists to a single list containing all tags\n",
        "# all_tags = [tag.strip() for sublist in tag_lists for tag in sublist]\n",
        "\n",
        "# # Convert to a set to remove duplicates and count unique tags\n",
        "# unique_tags = set(all_tags)\n",
        "\n",
        "# # Create a mapping from tag to a unique number (starting from 1 for example)\n",
        "# tag_to_number = {tag: i+1 for i, tag in enumerate(unique_tags)}\n",
        "\n",
        "# # Function to encode tags in a row with their corresponding numbers\n",
        "# def encode_tags(tag_string):\n",
        "#     if pd.isnull(tag_string):\n",
        "#         return None  # Return None or an appropriate value for missing tags\n",
        "#     # Split the tag string by ',', map each tag to its number, join back with commas\n",
        "#     return ','.join(str(tag_to_number[tag.strip()]) for tag in tag_string.split(','))\n",
        "\n",
        "# # Apply the encoding function to the 'tag' column in place\n",
        "# data['tag'] = data['tag'].apply(encode_tags)\n",
        "\n",
        "# # Print the encoding scheme\n",
        "# print(\"Tag to number encoding scheme:\")\n",
        "# # for tag, number in tag_to_number.items():\n",
        "# #     print(f\"{tag}: {number}\")\n",
        "\n",
        "# # Optionally, show the head of the DataFrame to verify the changes\n",
        "# print(data.head())\n"
      ],
      "metadata": {
        "id": "FWq88DRXoPHn"
      },
      "execution_count": null,
      "outputs": []
    },
    {
      "cell_type": "code",
      "source": [
        "# # Encoding 'genres' column with one-hot encoding\n",
        "# data = pd.get_dummies(data, columns=['genres'])\n",
        "\n",
        "# # Split the 'tag' column by commas and perform one-hot encoding\n",
        "# tags = data['tag'].astype(str).str.get_dummies(sep='-')\n",
        "# data = pd.concat([data, tags], axis=1)\n",
        "\n",
        "# # Drop the original 'tag' column\n",
        "# data.drop(columns=['tag'], inplace=True)\n",
        "\n",
        "# # Display the modified DataFrame\n",
        "# print(data.head())"
      ],
      "metadata": {
        "id": "HMPYm4k_qo66"
      },
      "execution_count": null,
      "outputs": []
    },
    {
      "cell_type": "markdown",
      "source": [
        "**APPLYING LINEAR REGRESSION**"
      ],
      "metadata": {
        "id": "e1srcopC45Tm"
      }
    },
    {
      "cell_type": "code",
      "source": [
        "# Drop 'title' and 'timestamp' columns from data\n",
        "df = data.drop(columns=['title', 'timestamp','genres','tag'], axis=1)\n",
        "\n",
        "# Assign 'rating' column to y\n",
        "y = df['rating']\n",
        "\n",
        "# Drop 'rating' column and assign remaining columns to X\n",
        "X = df.drop(columns=['rating'], axis=1)"
      ],
      "metadata": {
        "id": "Gd8sJI1bQGSc"
      },
      "execution_count": null,
      "outputs": []
    },
    {
      "cell_type": "code",
      "source": [
        "from sklearn.linear_model import LinearRegression\n",
        "# # data = data.drop('timestamp', axis = 1, inplace = True)\n",
        "\n",
        "# # Extracting features (X) and target variable (y)\n",
        "# X = df.drop(columns=['rating','timestamp'])  # Drop the column 'rating' to get features\n",
        "# y = df['rating']  # Select the column 'rating' as the target variable\n",
        "\n",
        "# # Split the dataset into a training set and a test set\n",
        "X_train, X_test, y_train, y_test = train_test_split(X, y, test_size=0.2)\n",
        "print(X_train.dtypes)\n",
        "non_numeric_columns = X_train.columns[~X_train.applymap(np.isreal).all()]\n",
        "print(non_numeric_columns)\n",
        "# Train the machine learning model\n",
        "model = LinearRegression()\n",
        "model.fit(X_train, y_train)"
      ],
      "metadata": {
        "colab": {
          "base_uri": "https://localhost:8080/"
        },
        "id": "ZM5Qi_864x_-",
        "outputId": "a3a50752-8f2d-4a4b-fb05-c3c81268bc4b"
      },
      "execution_count": null,
      "outputs": [
        {
          "output_type": "stream",
          "name": "stdout",
          "text": [
            "userId           int64\n",
            "movieId          int64\n",
            "date_of_month    int32\n",
            "day_of_week      int32\n",
            "month            int32\n",
            "year             int32\n",
            "season           int64\n",
            "dtype: object\n",
            "Index([], dtype='object')\n"
          ]
        },
        {
          "output_type": "execute_result",
          "data": {
            "text/plain": [
              "LinearRegression()"
            ],
            "text/html": [
              "<style>#sk-container-id-1 {color: black;background-color: white;}#sk-container-id-1 pre{padding: 0;}#sk-container-id-1 div.sk-toggleable {background-color: white;}#sk-container-id-1 label.sk-toggleable__label {cursor: pointer;display: block;width: 100%;margin-bottom: 0;padding: 0.3em;box-sizing: border-box;text-align: center;}#sk-container-id-1 label.sk-toggleable__label-arrow:before {content: \"▸\";float: left;margin-right: 0.25em;color: #696969;}#sk-container-id-1 label.sk-toggleable__label-arrow:hover:before {color: black;}#sk-container-id-1 div.sk-estimator:hover label.sk-toggleable__label-arrow:before {color: black;}#sk-container-id-1 div.sk-toggleable__content {max-height: 0;max-width: 0;overflow: hidden;text-align: left;background-color: #f0f8ff;}#sk-container-id-1 div.sk-toggleable__content pre {margin: 0.2em;color: black;border-radius: 0.25em;background-color: #f0f8ff;}#sk-container-id-1 input.sk-toggleable__control:checked~div.sk-toggleable__content {max-height: 200px;max-width: 100%;overflow: auto;}#sk-container-id-1 input.sk-toggleable__control:checked~label.sk-toggleable__label-arrow:before {content: \"▾\";}#sk-container-id-1 div.sk-estimator input.sk-toggleable__control:checked~label.sk-toggleable__label {background-color: #d4ebff;}#sk-container-id-1 div.sk-label input.sk-toggleable__control:checked~label.sk-toggleable__label {background-color: #d4ebff;}#sk-container-id-1 input.sk-hidden--visually {border: 0;clip: rect(1px 1px 1px 1px);clip: rect(1px, 1px, 1px, 1px);height: 1px;margin: -1px;overflow: hidden;padding: 0;position: absolute;width: 1px;}#sk-container-id-1 div.sk-estimator {font-family: monospace;background-color: #f0f8ff;border: 1px dotted black;border-radius: 0.25em;box-sizing: border-box;margin-bottom: 0.5em;}#sk-container-id-1 div.sk-estimator:hover {background-color: #d4ebff;}#sk-container-id-1 div.sk-parallel-item::after {content: \"\";width: 100%;border-bottom: 1px solid gray;flex-grow: 1;}#sk-container-id-1 div.sk-label:hover label.sk-toggleable__label {background-color: #d4ebff;}#sk-container-id-1 div.sk-serial::before {content: \"\";position: absolute;border-left: 1px solid gray;box-sizing: border-box;top: 0;bottom: 0;left: 50%;z-index: 0;}#sk-container-id-1 div.sk-serial {display: flex;flex-direction: column;align-items: center;background-color: white;padding-right: 0.2em;padding-left: 0.2em;position: relative;}#sk-container-id-1 div.sk-item {position: relative;z-index: 1;}#sk-container-id-1 div.sk-parallel {display: flex;align-items: stretch;justify-content: center;background-color: white;position: relative;}#sk-container-id-1 div.sk-item::before, #sk-container-id-1 div.sk-parallel-item::before {content: \"\";position: absolute;border-left: 1px solid gray;box-sizing: border-box;top: 0;bottom: 0;left: 50%;z-index: -1;}#sk-container-id-1 div.sk-parallel-item {display: flex;flex-direction: column;z-index: 1;position: relative;background-color: white;}#sk-container-id-1 div.sk-parallel-item:first-child::after {align-self: flex-end;width: 50%;}#sk-container-id-1 div.sk-parallel-item:last-child::after {align-self: flex-start;width: 50%;}#sk-container-id-1 div.sk-parallel-item:only-child::after {width: 0;}#sk-container-id-1 div.sk-dashed-wrapped {border: 1px dashed gray;margin: 0 0.4em 0.5em 0.4em;box-sizing: border-box;padding-bottom: 0.4em;background-color: white;}#sk-container-id-1 div.sk-label label {font-family: monospace;font-weight: bold;display: inline-block;line-height: 1.2em;}#sk-container-id-1 div.sk-label-container {text-align: center;}#sk-container-id-1 div.sk-container {/* jupyter's `normalize.less` sets `[hidden] { display: none; }` but bootstrap.min.css set `[hidden] { display: none !important; }` so we also need the `!important` here to be able to override the default hidden behavior on the sphinx rendered scikit-learn.org. See: https://github.com/scikit-learn/scikit-learn/issues/21755 */display: inline-block !important;position: relative;}#sk-container-id-1 div.sk-text-repr-fallback {display: none;}</style><div id=\"sk-container-id-1\" class=\"sk-top-container\"><div class=\"sk-text-repr-fallback\"><pre>LinearRegression()</pre><b>In a Jupyter environment, please rerun this cell to show the HTML representation or trust the notebook. <br />On GitHub, the HTML representation is unable to render, please try loading this page with nbviewer.org.</b></div><div class=\"sk-container\" hidden><div class=\"sk-item\"><div class=\"sk-estimator sk-toggleable\"><input class=\"sk-toggleable__control sk-hidden--visually\" id=\"sk-estimator-id-1\" type=\"checkbox\" checked><label for=\"sk-estimator-id-1\" class=\"sk-toggleable__label sk-toggleable__label-arrow\">LinearRegression</label><div class=\"sk-toggleable__content\"><pre>LinearRegression()</pre></div></div></div></div></div>"
            ]
          },
          "metadata": {},
          "execution_count": 10
        }
      ]
    },
    {
      "cell_type": "code",
      "source": [
        "# Evaluate the machine learning model\n",
        "score = model.score(X_test, y_test)\n",
        "print(\"The accuracy of the model is\", score)"
      ],
      "metadata": {
        "id": "WWf4-eFy4_oc",
        "colab": {
          "base_uri": "https://localhost:8080/"
        },
        "outputId": "2b7751bd-dd6f-4942-820a-88ddcd015913"
      },
      "execution_count": null,
      "outputs": [
        {
          "output_type": "stream",
          "name": "stdout",
          "text": [
            "The accuracy of the model is 0.002492470005308167\n"
          ]
        }
      ]
    },
    {
      "cell_type": "code",
      "source": [
        "# Input user ID\n",
        "user_id = int(input(\"Enter user ID: \"))\n",
        "\n",
        "# Predict ratings for all movies for the given user\n",
        "user_ratings = model.predict(X_train.loc[X_train['userId'] == user_id])\n",
        "\n",
        "# Get the indices of top-rated movies\n",
        "top_movies_indices = user_ratings.argsort()[-10:][::-1]  # Recommending only the top 10 movies\n",
        "\n",
        "# Get the titles of top-rated movies\n",
        "top_movies_data = X_train.loc[X_train['userId'] == user_id].iloc[top_movies_indices]\n",
        "\n",
        "# Merge 'title' column back into the DataFrame and remove duplicates\n",
        "top_movies_data_with_title = pd.merge(top_movies_data.drop_duplicates(subset=['movieId']), data[['movieId', 'title']], on='movieId', how='left')\n",
        "\n",
        "# Ensure only top 10 unique movies are recommended\n",
        "top_movies_data_with_title = top_movies_data_with_title.drop_duplicates(subset=['title']).head(10)\n",
        "\n",
        "# Print the recommended movies\n",
        "print(\"The following movies are recommended for user\", user_id, \":\")\n",
        "print(top_movies_data_with_title[['title']])  # Display only 'title'"
      ],
      "metadata": {
        "colab": {
          "base_uri": "https://localhost:8080/"
        },
        "id": "iEsLhCZsujbz",
        "outputId": "8d82b0e3-06f1-4fdd-9232-c15f5e6711c4"
      },
      "execution_count": null,
      "outputs": [
        {
          "output_type": "stream",
          "name": "stdout",
          "text": [
            "Enter user ID: 6\n",
            "The following movies are recommended for user 6 :\n",
            "                                  title\n",
            "0                        Jumanji (1995)\n",
            "112            Waiting to Exhale (1995)\n",
            "119  Father of the Bride Part II (1995)\n",
            "169                      Sabrina (1995)\n",
            "223                 Tom and Huck (1995)\n",
            "231                    GoldenEye (1995)\n",
            "363                        Balto (1995)\n",
            "371             Cutthroat Island (1995)\n",
            "384                       Casino (1995)\n",
            "466        Sense and Sensibility (1995)\n"
          ]
        }
      ]
    }
  ]
}